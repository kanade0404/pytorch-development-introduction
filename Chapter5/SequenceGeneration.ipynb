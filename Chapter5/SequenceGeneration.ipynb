{
 "cells": [
  {
   "cell_type": "code",
   "execution_count": 57,
   "metadata": {},
   "outputs": [],
   "source": [
    "# すべてのascii文字で辞書を作る\n",
    "import string\n",
    "all_chars = string.printable\n",
    "vocab_size = len(all_chars)\n",
    "vocab_dict = dict((c, i) for (i, c) in enumerate(all_chars))\n",
    "\n",
    "# 文字列を数値のリストに変換する関数\n",
    "def str2ints(s, vocab_dict):\n",
    "    return [vocab_dict[c] for c in s]\n",
    "\n",
    "# 数値のリストを文字列に変換する関数\n",
    "def ints2str(x, vocab_array):\n",
    "    return \"\".join([vocab_array[i] for i in x])"
   ]
  },
  {
   "cell_type": "code",
   "execution_count": 58,
   "metadata": {},
   "outputs": [],
   "source": [
    "import torch\n",
    "from torch import nn, optim\n",
    "from torch.utils.data import (Dataset,\n",
    "                             DataLoader,\n",
    "                             TensorDataset)\n",
    "import tqdm"
   ]
  },
  {
   "cell_type": "code",
   "execution_count": 59,
   "metadata": {},
   "outputs": [],
   "source": [
    "class ShakespeareDataset(Dataset):\n",
    "    def __init__(self, path, chunk_size=200):\n",
    "        # ファイルを読み込み、数値のリストに変換する\n",
    "        data = str2ints(open(path).read().strip(), vocab_dict)\n",
    "        # Tensorに変換し、splitする\n",
    "        data = torch.tensor(data, dtype=torch.int64).split(chunk_size)\n",
    "        # 最後のshunkにながさをチェックして足りない場合には捨てる\n",
    "        if len(data[-1]) < chunk_size:\n",
    "            data = data[:-1]\n",
    "            \n",
    "        self.data = data\n",
    "        self.n_chunks = len(self.data)\n",
    "    \n",
    "    def __len__(self):\n",
    "        return self.n_chunks\n",
    "    \n",
    "    def __getitem__(self, idx):\n",
    "        return self.data[idx]"
   ]
  },
  {
   "cell_type": "code",
   "execution_count": 60,
   "metadata": {},
   "outputs": [],
   "source": [
    "ds = ShakespeareDataset(\"ch5data/tinyshakespeare.txt\", chunk_size=200)\n",
    "loader = DataLoader(ds, batch_size=32, shuffle=True, num_workers=4)"
   ]
  },
  {
   "cell_type": "code",
   "execution_count": 61,
   "metadata": {},
   "outputs": [],
   "source": [
    "\"\"\"\n",
    "文章生成モデルの構築\n",
    "\"\"\"\n",
    "class SequenceGenerationNet(nn.Module):\n",
    "    def __init__(self, num_embeddings, \n",
    "                 embedding_dim=50, \n",
    "                 hidden_size=50,\n",
    "                 num_layers=1, dropout=0.2):\n",
    "        super().__init__()\n",
    "        self.emb = nn.Embedding(num_embeddings, embedding_dim)\n",
    "        self.lstm = nn.LSTM(embedding_dim, \n",
    "                            hidden_size,\n",
    "                            num_layers,\n",
    "                            batch_first=True,\n",
    "                            dropout=dropout)\n",
    "        # Linerのoutputのサイズは最初のEmbeddingの\n",
    "        # inputサイズと同じnum_embeddings\n",
    "        self.linear = nn.Linear(hidden_size, num_embeddings)\n",
    "\n",
    "    def forward(self, x, h0=None):\n",
    "        x = self.emb(x)\n",
    "        x, h = self.lstm(x, h0)\n",
    "        x = self.linear(x)\n",
    "        return x, h"
   ]
  },
  {
   "cell_type": "code",
   "execution_count": 62,
   "metadata": {},
   "outputs": [],
   "source": [
    "\"\"\"\n",
    "文章を生成する関数の作成\n",
    "\"\"\"\n",
    "def generate_seq(net, start_phrase=\"The King said \",\n",
    "                 length=200, temperature=0.8, device=\"cpu\"):\n",
    "    # モデルを評価モードにする\n",
    "    net.eval()\n",
    "    # 出力の数値を格納するリスト\n",
    "    result = []\n",
    "    \n",
    "    # 開始文字列をTensorに変換\n",
    "    start_tensor = torch.tensor(\n",
    "        str2ints(start_phrase, vocab_dict),\n",
    "        dtype=torch.int64\n",
    "    ).to(device)\n",
    "    # 先頭にbatch次元を付ける\n",
    "    x0 = start_tensor.unsqueeze(0) \n",
    "    # RNNに通して出力と新しい内部状態を得る\n",
    "    o, h = net(x0)\n",
    "    # 出力を(正規化されていない)確率に変換\n",
    "    out_dist = o[:, -1].view(-1).exp()\n",
    "    # 確率から実際の文字のインデクスをサンプリング\n",
    "    top_i = torch.multinomial(out_dist, 1)[0]\n",
    "    # 結果を保存\n",
    "    result.append(top_i)\n",
    "    \n",
    "    # 生成された結果を次々にRNNに入力していく\n",
    "    for i in range(length):\n",
    "        inp = torch.tensor([[top_i]], dtype=torch.int64)\n",
    "        inp = inp.to(device)\n",
    "        o, h = net(inp, h)\n",
    "        out_dist = o.view(-1).exp()\n",
    "        top_i = torch.multinomial(out_dist, 1)[0]\n",
    "        result.append(top_i)\n",
    "        \n",
    "    # 開始文字列と生成された文字列をまとめて返す\n",
    "    return start_phrase + ints2str(result, all_chars)"
   ]
  },
  {
   "cell_type": "code",
   "execution_count": 63,
   "metadata": {},
   "outputs": [
    {
     "name": "stderr",
     "output_type": "stream",
     "text": [
      "100%|██████████| 175/175 [00:14<00:00, 11.69it/s]\n",
      "  0%|          | 0/175 [00:00<?, ?it/s]"
     ]
    },
    {
     "name": "stdout",
     "output_type": "stream",
     "text": [
      "0 3.496890231541225\n",
      "The King said arurcia,NleibnS sd;es Iow ho rs oadhnia r   gCRcngeioshhHwwltcth T  ryan\n",
      "aa\n",
      "c\n",
      "a \n",
      " l\n",
      "mOC,awUnawi ,eTieln Wtrpieetgonm osmren elasmnsebioa  tem  tletr.g,Kef\n",
      "rrt ss eh \n",
      "o,sras T .opucsbciihr u_ljtcowK usv\n"
     ]
    },
    {
     "name": "stderr",
     "output_type": "stream",
     "text": [
      "100%|██████████| 175/175 [00:14<00:00, 11.75it/s]\n",
      "  0%|          | 0/175 [00:00<?, ?it/s]"
     ]
    },
    {
     "name": "stdout",
     "output_type": "stream",
     "text": [
      "1 3.104111685071673\n",
      "The King said yoa\n",
      "RMinr ol,nt to teekrr snidn\n",
      "\n",
      ":I\n",
      "r:oe\n",
      "kis mhit yte s.as mes ttanoa we!erer ier\n",
      "tac Teo ti o.nenlarkprh esfn Ilal nnad?rohlCbet,\n",
      "\n",
      "Yasy teannv\n",
      "cad;u tis+ehsdeceu yas byrit beorm huF't glhp fi:' rinn w\n"
     ]
    },
    {
     "name": "stderr",
     "output_type": "stream",
     "text": [
      "100%|██████████| 175/175 [00:14<00:00, 11.86it/s]\n",
      "  0%|          | 0/175 [00:00<?, ?it/s]"
     ]
    },
    {
     "name": "stdout",
     "output_type": "stream",
     "text": [
      "2 2.6795791394369943\n",
      "The King said lo khegm she fIe, tyle frake onsic tianr\n",
      "\u000b",
      "n thim! bomh mid ovhus no m:f moe%\n",
      "Te trip,erca, coo teach foow som, serthe Wett ad bga boagdhhe werBe wur innn berith ta whadgorge  tiss kid aldes\n",
      "Ousl tsirme\n"
     ]
    },
    {
     "name": "stderr",
     "output_type": "stream",
     "text": [
      "100%|██████████| 175/175 [00:14<00:00, 11.78it/s]\n",
      "  0%|          | 0/175 [00:00<?, ?it/s]"
     ]
    },
    {
     "name": "stdout",
     "output_type": "stream",
     "text": [
      "3 2.4760448905399866\n",
      "The King said tee and, yhorsn an cous khe and \n",
      "O\n",
      "Ay\n",
      "I SERIDCO:\n",
      "Con anc wous han a!\n",
      "TaW'n:\n",
      "uus, misd and Mamco the than wag selwurpee cofe, me tou cardukel as forlel! t reelH btesut.:\n",
      "Os orltin, low, nthad sid thens \n"
     ]
    },
    {
     "name": "stderr",
     "output_type": "stream",
     "text": [
      "100%|██████████| 175/175 [00:14<00:00, 11.86it/s]\n",
      "  0%|          | 0/175 [00:00<?, ?it/s]"
     ]
    },
    {
     "name": "stdout",
     "output_type": "stream",
     "text": [
      "4 2.3674400520324705\n",
      "The King said fritren nito weor feaold thpame noo sead hiat Wttor' ssese\n",
      "teyt stanm\n",
      "farer sfilb 'lsis, I tefe bot mithin\n",
      "Wut dake phecam, hpat:\n",
      "\n",
      "\n",
      "ETMIS:\n",
      "Arprercork, lo foe the wat telh ney awh: hales izgiv'r!\n",
      "\n",
      "YYNOA\n"
     ]
    },
    {
     "name": "stderr",
     "output_type": "stream",
     "text": [
      "100%|██████████| 175/175 [00:14<00:00, 11.79it/s]\n",
      "  0%|          | 0/175 [00:00<?, ?it/s]"
     ]
    },
    {
     "name": "stdout",
     "output_type": "stream",
     "text": [
      "5 2.2918142359597344\n",
      "The King said tout fond yill sostill caconge gon.\n",
      "Lerpiad ot lito-dir. fove, s.ik yeed forpaI hacl wiblo\n",
      "Muted kere;\n",
      "\n",
      "CCOENIBOA:\n",
      "yay taed -wy mumoul?\n",
      "At math:\n",
      "Thas; Pid alc; at wo tlrovas chy?r FaIcwime stith murt m\n"
     ]
    },
    {
     "name": "stderr",
     "output_type": "stream",
     "text": [
      "100%|██████████| 175/175 [00:14<00:00, 11.75it/s]\n",
      "  0%|          | 0/175 [00:00<?, ?it/s]"
     ]
    },
    {
     "name": "stdout",
     "output_type": "stream",
     "text": [
      "6 2.2327882398877823\n",
      "The King said the lis enin?\n",
      "\n",
      "WaBHEWERDD:\n",
      "Lhingts i\f",
      "w sive erouk pur,.\n",
      "\n",
      "NI?A\n",
      "LILISo\n",
      "Thour weill evis sithe hobe pave sis the wive the you thaws Ine's;\n",
      "Lonm\n",
      "in on aitme\n",
      "Angtt overe.\n",
      "ther,'ter uneage dor thate mollend \n"
     ]
    },
    {
     "name": "stderr",
     "output_type": "stream",
     "text": [
      "100%|██████████| 175/175 [00:14<00:00, 12.03it/s]\n",
      "  0%|          | 0/175 [00:00<?, ?it/s]"
     ]
    },
    {
     "name": "stdout",
     "output_type": "stream",
     "text": [
      "7 2.183272624697004\n",
      "The King said wapy nische and comd aul as tha ar, arderidour laspy thes hoy it the aut.\n",
      "o\n",
      "Hiordtendt alith,e bould lain fornens\n",
      "me,.\n",
      "\n",
      "C CEURHONBAN:\n",
      "Ardope what you, thand soid mem of.\n",
      "\n",
      "OCAWADLID:\n",
      "O\n",
      "Haucerw miscenin \n"
     ]
    },
    {
     "name": "stderr",
     "output_type": "stream",
     "text": [
      "100%|██████████| 175/175 [00:14<00:00, 12.28it/s]\n",
      "  0%|          | 0/175 [00:00<?, ?it/s]"
     ]
    },
    {
     "name": "stdout",
     "output_type": "stream",
     "text": [
      "8 2.1390204402378625\n",
      "The King said hithertet inti'd.\n",
      "Nut in,\n",
      "And hener the for lam'd and aglay;-\n",
      "Mor'd\n",
      "And he wate to whan lisw, entild, ansid, Tny soull?\n",
      "\n",
      "KIR:\n",
      "Se ceate sir neavy had dewenty?\n",
      "Miln at.\n",
      "\n",
      "NIADUNA OI Cowher worys terothery\n"
     ]
    },
    {
     "name": "stderr",
     "output_type": "stream",
     "text": [
      "100%|██████████| 175/175 [00:14<00:00, 11.85it/s]\n",
      "  0%|          | 0/175 [00:00<?, ?it/s]"
     ]
    },
    {
     "name": "stdout",
     "output_type": "stream",
     "text": [
      "9 2.100387442452567\n",
      "The King said martour stoon.\n",
      "\n",
      "Sedod hous, \n",
      "LUCESBCO:\n",
      "And's in aed and for'in mastar dyappades.\n",
      "Pisrostak, I to leat to chvowoo tould wisned, frile fie tware horchent\n",
      "Lath one bicimy dase bled of the on. Bothed\n",
      "And a\n"
     ]
    },
    {
     "name": "stderr",
     "output_type": "stream",
     "text": [
      "100%|██████████| 175/175 [00:14<00:00, 11.90it/s]\n",
      "  0%|          | 0/175 [00:00<?, ?it/s]"
     ]
    },
    {
     "name": "stdout",
     "output_type": "stream",
     "text": [
      "10 2.0639199338640486\n",
      "The King said of with mearseds hlonest is wer bise sewele, buplan, nour-plael, he pirtige the rnow yourle mar-torn.\n",
      "Mork sbingtry I hom' turs the wame tinselm.\n",
      "\n",
      "UDIRGD:\n",
      "Whou!, 3furch the shlipanv tath, I on soour yo\n"
     ]
    },
    {
     "name": "stderr",
     "output_type": "stream",
     "text": [
      "100%|██████████| 175/175 [00:14<00:00, 11.76it/s]\n",
      "  0%|          | 0/175 [00:00<?, ?it/s]"
     ]
    },
    {
     "name": "stdout",
     "output_type": "stream",
     "text": [
      "11 2.030715641294207\n",
      "The King said the or on and krevace\n",
      "And Murge dowror, with, in ucrtpay his min, gorpingkns then dorsel porked,\n",
      "Coveroughstelive seincoon.\n",
      "\n",
      "KIR:\n",
      "Ary tho bperan:\n",
      "We Cobe.\n",
      "\n",
      "LERTHO:\n",
      "Rouch frabaafint of love whous and th\n"
     ]
    },
    {
     "name": "stderr",
     "output_type": "stream",
     "text": [
      "100%|██████████| 175/175 [00:14<00:00, 12.04it/s]\n",
      "  0%|          | 0/175 [00:00<?, ?it/s]"
     ]
    },
    {
     "name": "stdout",
     "output_type": "stream",
     "text": [
      "12 2.000198298863002\n",
      "The King said in my extrepteron;\n",
      "The of reswours I\n",
      "in lith caso betliut,\n",
      "Where herthlin!\n",
      "\n",
      "MINTANTIA:\n",
      "Both of mandy hable: his uffroke credsont theor I lood,\n",
      "Woulliuth tith: what wo sole\n",
      "That. Corlesoom youles youch'\n"
     ]
    },
    {
     "name": "stderr",
     "output_type": "stream",
     "text": [
      "100%|██████████| 175/175 [00:14<00:00, 11.73it/s]\n",
      "  0%|          | 0/175 [00:00<?, ?it/s]"
     ]
    },
    {
     "name": "stdout",
     "output_type": "stream",
     "text": [
      "13 1.9729883173533849\n",
      "The King said be.\n",
      "\n",
      "PHARK:\n",
      "O\n",
      "I that, I hand on dobreat st to they then and she,\n",
      "dotle whindours.\n",
      "It Goth: dive surt ould Soun: wo's bome then you.\n",
      "\n",
      "Swald Pancedssy the heald my lete hearch flends,\n",
      "And a as wite ut to\n"
     ]
    },
    {
     "name": "stderr",
     "output_type": "stream",
     "text": [
      "100%|██████████| 175/175 [00:14<00:00, 11.93it/s]\n",
      "  0%|          | 0/175 [00:00<?, ?it/s]"
     ]
    },
    {
     "name": "stdout",
     "output_type": "stream",
     "text": [
      "14 1.949744497707912\n",
      "The King said their,\n",
      "Ons; nanco shalchace your my one maray not seen;\n",
      "Fort! sorfife Yare all thict: thow afface,\n",
      "And Vake, petone bive, I mfercuve, lo suve onoun.\n",
      "\n",
      "PRUKIN\n",
      "ISV Teplint hoth quised, Srish formy.\n",
      "Swark \n"
     ]
    },
    {
     "name": "stderr",
     "output_type": "stream",
     "text": [
      "100%|██████████| 175/175 [00:14<00:00, 11.81it/s]\n",
      "  0%|          | 0/175 [00:00<?, ?it/s]"
     ]
    },
    {
     "name": "stdout",
     "output_type": "stream",
     "text": [
      "15 1.928583993911743\n",
      "The King said thow and gows, you.\n",
      "\n",
      "WESTAREN:\n",
      "Thigh: send like, Meopf, and fill by ont;\n",
      "And conyss pely theg.\n",
      "Gor bistor-oase sing you tull seling stoul alreds\n",
      "And decain that fare opadetonbine,\n",
      "Here we, the them we \n"
     ]
    },
    {
     "name": "stderr",
     "output_type": "stream",
     "text": [
      "100%|██████████| 175/175 [00:14<00:00, 11.93it/s]\n",
      "  0%|          | 0/175 [00:00<?, ?it/s]"
     ]
    },
    {
     "name": "stdout",
     "output_type": "stream",
     "text": [
      "16 1.9102774667739868\n",
      "The King said sure be, I lald, lrip to Cebey,\n",
      "Is of of a suw veishy ha:\n",
      "This the bustering their it have halith; heal his the busite his for to? as thee\n",
      "\n",
      "GPrULES:\n",
      "Sichthich freingutond down eod as theren!\n",
      "cometes ar\n"
     ]
    },
    {
     "name": "stderr",
     "output_type": "stream",
     "text": [
      "100%|██████████| 175/175 [00:14<00:00, 11.74it/s]\n",
      "  0%|          | 0/175 [00:00<?, ?it/s]"
     ]
    },
    {
     "name": "stdout",
     "output_type": "stream",
     "text": [
      "17 1.8925764547075543\n",
      "The King said of pEadt, jighury. thy cears they bore,\n",
      "\n",
      "KASHERINV:\n",
      "Menie.\n",
      "\n",
      "VORTENRES:\n",
      "He forfirus, whout angilc cruys air, you.\n",
      "\n",
      "CAMIRY HI\n",
      "\n",
      "WARILLA\n",
      "S:\n",
      "Bathing; grobigree we egamed fatly and with to\n",
      "Cisory wo live cus\n"
     ]
    },
    {
     "name": "stderr",
     "output_type": "stream",
     "text": [
      "100%|██████████| 175/175 [00:14<00:00, 11.82it/s]\n",
      "  0%|          | 0/175 [00:00<?, ?it/s]"
     ]
    },
    {
     "name": "stdout",
     "output_type": "stream",
     "text": [
      "18 1.8782567371640886\n",
      "The King said wores the ear round,\n",
      "Why would neeven of Roulto ruch, uvestinobeit\n",
      "Cortest who? beavoadinoon and thee Dome fortess\n",
      "And ploces this you old seus radcours of if bragle.\n",
      "faln truet my have at are at.\n",
      "\n",
      "Pec\n"
     ]
    },
    {
     "name": "stderr",
     "output_type": "stream",
     "text": [
      "100%|██████████| 175/175 [00:14<00:00, 11.88it/s]\n",
      "  0%|          | 0/175 [00:00<?, ?it/s]"
     ]
    },
    {
     "name": "stdout",
     "output_type": "stream",
     "text": [
      "19 1.8630405930110387\n",
      "The King said cold gokn,\n",
      "Bucitire glower, what ben so my dade, I love\n",
      "Evains a?\n",
      "\n",
      "LARO:\n",
      "No wer brixeny, you pearve besrect as yessle\n",
      "Thiz not, Youd enis we lest my must\n",
      "Famiths vave to was cochelver a-ter?\n",
      "Likiser po\n"
     ]
    },
    {
     "name": "stderr",
     "output_type": "stream",
     "text": [
      "100%|██████████| 175/175 [00:14<00:00, 11.73it/s]\n",
      "  0%|          | 0/175 [00:00<?, ?it/s]"
     ]
    },
    {
     "name": "stdout",
     "output_type": "stream",
     "text": [
      "20 1.8494895022256033\n",
      "The King said bine.\n",
      "\n",
      "ERWENGIO:\n",
      "Morrownce?\n",
      "That towt, one a known gist, proncad citter\n",
      "Which not buccude lood the of suchers you,\n",
      "Whoulve houdes! crost thut be bake I ward'd he sing;\n",
      "He barfo the troony werly he,\n",
      "Arh\n"
     ]
    },
    {
     "name": "stderr",
     "output_type": "stream",
     "text": [
      "100%|██████████| 175/175 [00:14<00:00, 11.78it/s]\n",
      "  0%|          | 0/175 [00:00<?, ?it/s]"
     ]
    },
    {
     "name": "stdout",
     "output_type": "stream",
     "text": [
      "21 1.837811690058027\n",
      "The King said we my marlice;\n",
      "Brange a gistrant; for the have you freath.\n",
      "\n",
      "Selsiss yal are out there mare's thee.\n",
      "Podgars, sut of by with fall your margiTel ood\n",
      "Iw, tall with\n",
      "That thy traess\n",
      "To knou frith lilg shraid\n"
     ]
    },
    {
     "name": "stderr",
     "output_type": "stream",
     "text": [
      "100%|██████████| 175/175 [00:14<00:00, 11.85it/s]\n",
      "  0%|          | 0/175 [00:00<?, ?it/s]"
     ]
    },
    {
     "name": "stdout",
     "output_type": "stream",
     "text": [
      "22 1.8267658070155552\n",
      "The King said quitity, wout of it enklone,\n",
      "But nobey did longmrikce, faring both to-noch him truin,\n",
      "See longs, bejy buse ever have enisand your\n",
      "As beatal, as with bother.\n",
      "\n",
      "Leses: 'Mps, his ward and a not it then.\n",
      "\n",
      "{\n"
     ]
    },
    {
     "name": "stderr",
     "output_type": "stream",
     "text": [
      "100%|██████████| 175/175 [00:14<00:00, 11.86it/s]\n",
      "  0%|          | 0/175 [00:00<?, ?it/s]"
     ]
    },
    {
     "name": "stdout",
     "output_type": "stream",
     "text": [
      "23 1.816009040560041\n",
      "The King said apul offelf and gring'd:\n",
      "Nurned of you, at heixg ofly howers thereates,\n",
      "But for browd his fare hereders.\n",
      "\n",
      "MENONO:\n",
      "Mutchefumo, the mlangsting parinon in care,\n",
      "Sheir. a fear haveutsiand stronely,\n",
      "And hip\n"
     ]
    },
    {
     "name": "stderr",
     "output_type": "stream",
     "text": [
      "100%|██████████| 175/175 [00:14<00:00, 11.78it/s]\n",
      "  0%|          | 0/175 [00:00<?, ?it/s]"
     ]
    },
    {
     "name": "stdout",
     "output_type": "stream",
     "text": [
      "24 1.8061939191818237\n",
      "The King said that to love to myarth\n",
      "Whore scarrous wooks in sie.\n",
      "\n",
      "POMPEBO:\n",
      "And thim, premary be me lrosom.\n",
      "\n",
      "PAPUITIS:\n",
      "Hen canneptspiccens feffil nears.\n",
      "\n",
      "PLover, Wherr:\n",
      "I' in the stard in swepars: tild mace for\n",
      "No d\n"
     ]
    },
    {
     "name": "stderr",
     "output_type": "stream",
     "text": [
      "100%|██████████| 175/175 [00:14<00:00, 11.78it/s]\n",
      "  0%|          | 0/175 [00:00<?, ?it/s]"
     ]
    },
    {
     "name": "stdout",
     "output_type": "stream",
     "text": [
      "25 1.7967904990059989\n",
      "The King said but shall not?\n",
      "\n",
      "DUKE OF GORY:\n",
      "\n",
      "PRINCE,\n",
      "\n",
      "POPUTES:\n",
      "Septer thinter uscome sold the bichisen.\n",
      "\n",
      "MESSA:\n",
      "That have noply to at panture earth,\n",
      "I sparny, yours\n",
      "And wend with it's lack arys shement toal behas.\n",
      "W\n"
     ]
    },
    {
     "name": "stderr",
     "output_type": "stream",
     "text": [
      "100%|██████████| 175/175 [00:14<00:00, 11.91it/s]\n",
      "  0%|          | 0/175 [00:00<?, ?it/s]"
     ]
    },
    {
     "name": "stdout",
     "output_type": "stream",
     "text": [
      "26 1.7880402176720755\n",
      "The King said wa't shall yourtiond:\n",
      "Therefoons tell in igs you knome, be aple rine.\n",
      "\n",
      "COMONINES:\n",
      "I, to doth of asiend.\n",
      "And nightittel all they they nots a foumint.\n",
      "\n",
      "BANTENTUT:\n",
      "Per his shere bass you, ansutiled, with \n"
     ]
    },
    {
     "name": "stderr",
     "output_type": "stream",
     "text": [
      "100%|██████████| 175/175 [00:14<00:00, 11.68it/s]\n",
      "  0%|          | 0/175 [00:00<?, ?it/s]"
     ]
    },
    {
     "name": "stdout",
     "output_type": "stream",
     "text": [
      "27 1.7797741440364292\n",
      "The King said though domberle--I, call known his broich?\n",
      "\n",
      "KING EDWARD IW:\n",
      "Mepome, yous a amy to but to a in I were:\n",
      "Les cenies your? this dremvard-plens inercoll.\n",
      "How ham thinge to striver in hid corn a days,\n",
      "Thou m\n"
     ]
    },
    {
     "name": "stderr",
     "output_type": "stream",
     "text": [
      "100%|██████████| 175/175 [00:14<00:00, 11.80it/s]\n",
      "  0%|          | 0/175 [00:00<?, ?it/s]"
     ]
    },
    {
     "name": "stdout",
     "output_type": "stream",
     "text": [
      "28 1.772705944606236\n",
      "The King said bers frood.\n",
      "\n",
      "ISAMERESTER:\n",
      "Go be the bidy ry Prizise?\n",
      "Teck'd, he had! faulther contex's grown\n",
      "As's as on hath thou canlat?\n",
      "O, make that God to but my farch have renings\n",
      "What good gring betch own here th\n"
     ]
    },
    {
     "name": "stderr",
     "output_type": "stream",
     "text": [
      "100%|██████████| 175/175 [00:14<00:00, 11.80it/s]\n",
      "  0%|          | 0/175 [00:00<?, ?it/s]"
     ]
    },
    {
     "name": "stdout",
     "output_type": "stream",
     "text": [
      "29 1.7662549809047154\n",
      "The King said my fried; her craion her myncroT\n",
      "will woll of evests the not I will.\n",
      "\n",
      "PERSTICB:\n",
      "Gots whigh.\n",
      "\n",
      "DUKE VINCENTIO:\n",
      "Not I't made 'to can, fips?\n",
      "\n",
      "Satonhange your preemon here with sloy.\n",
      "\n",
      "MursIMENRES:\n",
      "Coultly i\n"
     ]
    },
    {
     "name": "stderr",
     "output_type": "stream",
     "text": [
      "100%|██████████| 175/175 [00:14<00:00, 11.96it/s]\n",
      "  0%|          | 0/175 [00:00<?, ?it/s]"
     ]
    },
    {
     "name": "stdout",
     "output_type": "stream",
     "text": [
      "30 1.759264795439584\n",
      "The King said weargal, Costory.\n",
      "\n",
      "PONTONES:\n",
      "On revefort?\n",
      "Is this prepose, and meselity; but him it for a' dronour dan\n",
      "And my biof to thee him fom and had-\n",
      "Estry, yither the woard tout, them this was we winge\n",
      "He bade,\n"
     ]
    },
    {
     "name": "stderr",
     "output_type": "stream",
     "text": [
      "100%|██████████| 175/175 [00:14<00:00, 11.79it/s]\n",
      "  0%|          | 0/175 [00:00<?, ?it/s]"
     ]
    },
    {
     "name": "stdout",
     "output_type": "stream",
     "text": [
      "31 1.7524261658532279\n",
      "The King said I tongal:\n",
      "And met as be him this, best roswool Good\n",
      "In as deleat you whom chired Criass,\n",
      "If wherefor jevore; swake oor how lasgtaite,\n",
      "Their'd deatulinges this facast, Fiest peart.\n",
      "\n",
      "JULIET:\n",
      "Ouso made sh\n"
     ]
    },
    {
     "name": "stderr",
     "output_type": "stream",
     "text": [
      "100%|██████████| 175/175 [00:14<00:00, 11.78it/s]\n",
      "  0%|          | 0/175 [00:00<?, ?it/s]"
     ]
    },
    {
     "name": "stdout",
     "output_type": "stream",
     "text": [
      "32 1.746600250516619\n",
      "The King said the are culd able for she offrom not it\n",
      "As cheather parting us come, with sand am,\n",
      "Ever dando, thoud en unothertenesing mirient\n",
      "We of Grenoul mine hard too be mrobses,\n",
      "Than be that a train ayouling hea\n"
     ]
    },
    {
     "name": "stderr",
     "output_type": "stream",
     "text": [
      "100%|██████████| 175/175 [00:14<00:00, 11.74it/s]\n",
      "  0%|          | 0/175 [00:00<?, ?it/s]"
     ]
    },
    {
     "name": "stdout",
     "output_type": "stream",
     "text": [
      "33 1.741142283167158\n",
      "The King said theles whow: I with his pime\n",
      "Waid it Hen unlen in buint the struding the doses\n",
      "Will Lurts sfamed, Jost my pook his content\n",
      "obpeeps of dears quend ubpige.\n",
      "That Bowelest doicand you munizened.\n",
      "\n",
      "SICINIUS:\n"
     ]
    },
    {
     "name": "stderr",
     "output_type": "stream",
     "text": [
      "100%|██████████| 175/175 [00:14<00:00, 11.75it/s]\n",
      "  0%|          | 0/175 [00:00<?, ?it/s]"
     ]
    },
    {
     "name": "stdout",
     "output_type": "stream",
     "text": [
      "34 1.7354277202061243\n",
      "The King said these that I know that whise.\n",
      "\n",
      "DUKE VINCENTIO:\n",
      "The nessithor Lion, the all cronour toup\n",
      "I but's his say no leathank there rother,\n",
      "Horsed, and that that all coursures tore, of\n",
      "And me the proveman! Sir, \n"
     ]
    },
    {
     "name": "stderr",
     "output_type": "stream",
     "text": [
      "100%|██████████| 175/175 [00:14<00:00, 11.82it/s]\n",
      "  0%|          | 0/175 [00:00<?, ?it/s]"
     ]
    },
    {
     "name": "stdout",
     "output_type": "stream",
     "text": [
      "35 1.7310453394481113\n",
      "The King said reword! 'ttere be whas on our standce the warland nigk,\n",
      "The med make night\n",
      "these-nap look'lf is noake bean firn, I munteet,\n",
      "Will by; shother, Provatk of batter. Thou am 'Tis is he duke\n",
      "cirld, Mast seav\n"
     ]
    },
    {
     "name": "stderr",
     "output_type": "stream",
     "text": [
      "100%|██████████| 175/175 [00:14<00:00, 11.79it/s]\n",
      "  0%|          | 0/175 [00:00<?, ?it/s]"
     ]
    },
    {
     "name": "stdout",
     "output_type": "stream",
     "text": [
      "36 1.726433299609593\n",
      "The King said is fray and not,\n",
      "As not to do, but's fortore.\n",
      "\n",
      "GORIAN:\n",
      "The hate here his was with your ear gothing will\n",
      "Who may, I qoent this report\n",
      "The blooks his defor her in faen should thou pricion;\n",
      "That fetort. C\n"
     ]
    },
    {
     "name": "stderr",
     "output_type": "stream",
     "text": [
      "100%|██████████| 175/175 [00:14<00:00, 11.79it/s]\n",
      "  0%|          | 0/175 [00:00<?, ?it/s]"
     ]
    },
    {
     "name": "stdout",
     "output_type": "stream",
     "text": [
      "37 1.7213320125852312\n",
      "The King said mufled of us therefore,\n",
      "Coman I answer is the sumbelped! nobhe enee.\n",
      "\n",
      "ISABELLA:\n",
      "Go Dougitbrore 'stery bofle, he what and them.\n",
      "\n",
      "KING EDWARD IV:\n",
      "Bo of is kere, and\n",
      "Exonil, treck to leath, we some. Comro\n"
     ]
    },
    {
     "name": "stderr",
     "output_type": "stream",
     "text": [
      "100%|██████████| 175/175 [00:15<00:00, 11.76it/s]\n",
      "  0%|          | 0/175 [00:00<?, ?it/s]"
     ]
    },
    {
     "name": "stdout",
     "output_type": "stream",
     "text": [
      "38 1.7176054225649153\n",
      "The King said his shall me.\n",
      "\n",
      "WATYDGBIB:\n",
      "Will spary our my nablen the muse: the kisest\n",
      "Should devome sects with no deeple by for longne?\n",
      "-Fort he men to suck reley.\n",
      "\n",
      "MENENIUS:\n",
      "Well:\n",
      "Begil world that clace of stand!\n",
      "B\n"
     ]
    },
    {
     "name": "stderr",
     "output_type": "stream",
     "text": [
      "100%|██████████| 175/175 [00:14<00:00, 11.72it/s]\n",
      "  0%|          | 0/175 [00:00<?, ?it/s]"
     ]
    },
    {
     "name": "stdout",
     "output_type": "stream",
     "text": [
      "39 1.7137163257598877\n",
      "The King said way\n",
      "Leever, so? I'll kines, he bequest is for\n",
      "That, got of I have how courthed him,, your dost no the sjafts,\n",
      "They vichoss to sal be sewand, themour me stuce\n",
      "ours waly aseir, mawain plaped all me boywe\n"
     ]
    },
    {
     "name": "stderr",
     "output_type": "stream",
     "text": [
      "100%|██████████| 175/175 [00:14<00:00, 11.81it/s]\n",
      "  0%|          | 0/175 [00:00<?, ?it/s]"
     ]
    },
    {
     "name": "stdout",
     "output_type": "stream",
     "text": [
      "40 1.7097990342548914\n",
      "The King said your bucus, Penclard.\n",
      "\n",
      "CORIOLANUS:\n",
      "I's my prromising in fathelf: what the in\n",
      "eperteman, that father\n",
      "cuasory and use you, all jowd for two?\n",
      "But.\n",
      "\n",
      "GLLAUD:\n",
      "Agind I doyed to his blessed with'd swear Dulls.\n"
     ]
    },
    {
     "name": "stderr",
     "output_type": "stream",
     "text": [
      "100%|██████████| 175/175 [00:14<00:00, 11.72it/s]\n",
      "  0%|          | 0/175 [00:00<?, ?it/s]"
     ]
    },
    {
     "name": "stdout",
     "output_type": "stream",
     "text": [
      "41 1.7067716482707431\n",
      "The King said from centet we\n",
      "lord, with shrood, be shy which epleping\n",
      "Wount, wore strange, you on this mep'd steid\n",
      "My both thou stoled, to king ears.\n",
      "\n",
      "HENRY COLBYA:\n",
      "Why, uld sie, and unbrupicion, your with.\n",
      "\n",
      "LOrTICE\n"
     ]
    },
    {
     "name": "stderr",
     "output_type": "stream",
     "text": [
      "100%|██████████| 175/175 [00:14<00:00, 11.75it/s]\n",
      "  0%|          | 0/175 [00:00<?, ?it/s]"
     ]
    },
    {
     "name": "stdout",
     "output_type": "stream",
     "text": [
      "42 1.7019526502064297\n",
      "The King said night on sty Myw.\n",
      "\n",
      "LUCIO:\n",
      "And's agous you we'll your furding a the\n",
      "amant live, them with on orldelost liff my dornone\n",
      "And gine, with theref alrown agains, werfilt what hher's with spears\n",
      "Hip I mugnes t\n"
     ]
    },
    {
     "name": "stderr",
     "output_type": "stream",
     "text": [
      "100%|██████████| 175/175 [00:14<00:00, 11.75it/s]\n",
      "  0%|          | 0/175 [00:00<?, ?it/s]"
     ]
    },
    {
     "name": "stdout",
     "output_type": "stream",
     "text": [
      "43 1.6984910992213658\n",
      "The King said lies defidet the come\n",
      "Go with of leaver-whem venise,\n",
      "Ansuise commade, woom my juddam.\n",
      "\n",
      "MaBarr:\n",
      "Plarced the kemst tham undiel.\n",
      "Will not but me and nothy all thee king-of.\n",
      "All be us, is the streak see th\n"
     ]
    },
    {
     "name": "stderr",
     "output_type": "stream",
     "text": [
      "100%|██████████| 175/175 [00:14<00:00, 11.86it/s]\n",
      "  0%|          | 0/175 [00:00<?, ?it/s]"
     ]
    },
    {
     "name": "stdout",
     "output_type": "stream",
     "text": [
      "44 1.69479225226811\n",
      "The King said from is the maymess?\n",
      "\n",
      "ARTIILARENCE:\n",
      "So will to fay, and hell flies, have good his are her;\n",
      "\n",
      "PAPTISNE:\n",
      "We of not?\n",
      "\n",
      "MENESS:\n",
      "Houlped I save oir lost in it;--not to Locess.\n",
      "\n",
      "HORTINE:\n",
      "I swear the threight i\n"
     ]
    },
    {
     "name": "stderr",
     "output_type": "stream",
     "text": [
      "100%|██████████| 175/175 [00:14<00:00, 11.81it/s]\n",
      "  0%|          | 0/175 [00:00<?, ?it/s]"
     ]
    },
    {
     "name": "stdout",
     "output_type": "stream",
     "text": [
      "45 1.691687934739249\n",
      "The King said manlle more, my meto commanion him.\n",
      "\n",
      "GLOUCESTER:\n",
      "Than alpions might, but him agrow'd, sim, well the-pold!\n",
      "\n",
      "Sall three inon on for thou to the jound\n",
      "Come, that I beess a godment he rest hy of wonds.\n",
      "\n",
      "SI\n"
     ]
    },
    {
     "name": "stderr",
     "output_type": "stream",
     "text": [
      "100%|██████████| 175/175 [00:15<00:00, 11.86it/s]\n",
      "  0%|          | 0/175 [00:00<?, ?it/s]"
     ]
    },
    {
     "name": "stdout",
     "output_type": "stream",
     "text": [
      "46 1.688406823022025\n",
      "The King said forth them friinss busing\n",
      "And hardonorps his no, eaver'dy is he say;\n",
      "Deed made, we hast go bears conswonhes.\n",
      "\n",
      "Lo lsher:\n",
      "What usomiscands send, and their means.\n",
      "\n",
      "ISABELLA:\n",
      "Muttle this so sure have not i\n"
     ]
    },
    {
     "name": "stderr",
     "output_type": "stream",
     "text": [
      "100%|██████████| 175/175 [00:14<00:00, 11.80it/s]\n",
      "  0%|          | 0/175 [00:00<?, ?it/s]"
     ]
    },
    {
     "name": "stdout",
     "output_type": "stream",
     "text": [
      "47 1.685372063773019\n",
      "The King said ficys or here,\n",
      "Jcord, Engmitform lenses intantas.\n",
      "\n",
      "PAULINA:\n",
      "That heard aight seems:\n",
      "Walk these trud, me? the pldear good the you,\n",
      "That? Ker and my shall judened to budious?\n",
      "The same, to scaption but an\n"
     ]
    },
    {
     "name": "stderr",
     "output_type": "stream",
     "text": [
      "100%|██████████| 175/175 [00:14<00:00, 11.83it/s]\n",
      "  0%|          | 0/175 [00:00<?, ?it/s]"
     ]
    },
    {
     "name": "stdout",
     "output_type": "stream",
     "text": [
      "48 1.6821535628182547\n",
      "The King said spoe all turn yous\n",
      "when too weir made rocenhardent his trees:\n",
      "Which we lide you, and with west ad Came yet,\n",
      "Then fliess him defort Duerys you say my drotob him!\n",
      "Be got my his mefelfle, ackly forcallife\n"
     ]
    },
    {
     "name": "stderr",
     "output_type": "stream",
     "text": [
      "100%|██████████| 175/175 [00:14<00:00, 12.52it/s]\n"
     ]
    },
    {
     "name": "stdout",
     "output_type": "stream",
     "text": [
      "49 1.6789666305269513\n",
      "The King said unly a shulfong;\n",
      "Wo leech o' me daiand. Platan't:'\n",
      "He bellow pseat, and conforted, now isuth take\n",
      "And I for the plaw thy say'n theeshe there by natellence\n",
      "That he calls nom word, we of here at it it da\n"
     ]
    }
   ],
   "source": [
    "\"\"\"\n",
    "文章を生成する関数の作成\n",
    "\"\"\"\n",
    "from statistics import mean\n",
    "\n",
    "net = SequenceGenerationNet(vocab_size, 20, 50,\n",
    "                            num_layers=2, dropout=0.1)\n",
    "net.to(\"cuda:0\")\n",
    "opt = optim.Adam(net.parameters())\n",
    "# 多クラスの識別で問題なのでSoftmaxCrossEntropyLossが損失関数となる\n",
    "loss_f = nn.CrossEntropyLoss()\n",
    "\n",
    "for epoch in range(50):\n",
    "    net.train()\n",
    "    losses = []\n",
    "    for data in tqdm.tqdm(loader):\n",
    "        # xははじめから最後の手前の文字まで\n",
    "        x = data[:, :-1]\n",
    "        # yは2文字目から最後の文字まで\n",
    "        y = data[:, 1:]\n",
    "\n",
    "        x = x.to(\"cuda:0\")\n",
    "        y = y.to(\"cuda:0\")\n",
    "\n",
    "        y_pred, _ = net(x)\n",
    "        # batchとstepの軸を統合してからCrossEntropyLossに渡す\n",
    "        loss = loss_f(y_pred.view(-1, vocab_size), y.view(-1))\n",
    "        net.zero_grad()\n",
    "        loss.backward()\n",
    "        opt.step()\n",
    "        losses.append(loss.item())\n",
    "    # 現在の損失関数と生成される文章の例を表示\n",
    "    print(epoch, mean(losses))\n",
    "    with torch.no_grad():\n",
    "        print(generate_seq(net, device=\"cuda:0\"))"
   ]
  },
  {
   "cell_type": "code",
   "execution_count": null,
   "metadata": {},
   "outputs": [],
   "source": []
  }
 ],
 "metadata": {
  "kernelspec": {
   "display_name": "Python 3",
   "language": "python",
   "name": "python3"
  },
  "language_info": {
   "codemirror_mode": {
    "name": "ipython",
    "version": 3
   },
   "file_extension": ".py",
   "mimetype": "text/x-python",
   "name": "python",
   "nbconvert_exporter": "python",
   "pygments_lexer": "ipython3",
   "version": "3.6.7"
  }
 },
 "nbformat": 4,
 "nbformat_minor": 2
}
