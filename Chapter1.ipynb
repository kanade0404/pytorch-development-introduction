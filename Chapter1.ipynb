{
 "cells": [
  {
   "cell_type": "markdown",
   "metadata": {},
   "source": [
    "Tensorの生成と変換"
   ]
  },
  {
   "cell_type": "code",
   "execution_count": 1,
   "metadata": {},
   "outputs": [],
   "source": [
    "import numpy as np\n",
    "import torch"
   ]
  },
  {
   "cell_type": "code",
   "execution_count": 2,
   "metadata": {},
   "outputs": [],
   "source": [
    "# 入れ子のlistを渡して作成\n",
    "t = torch.tensor([[1, 2], [3, 4.]])\n",
    "# deviceを指定することでGPUにTensorを作成する\n",
    "t = torch.tensor([[1, 2], [3, 4]])"
   ]
  },
  {
   "cell_type": "code",
   "execution_count": 3,
   "metadata": {},
   "outputs": [
    {
     "data": {
      "text/plain": [
       "torch.Size([100, 10])"
      ]
     },
     "execution_count": 3,
     "metadata": {},
     "output_type": "execute_result"
    }
   ],
   "source": [
    "# dtypeを指定することで倍精度のTensorを作る\n",
    "t = torch.tensor([[1, 2], [3, 4.]], dtype=torch.float64)\n",
    "\n",
    "# 0から9までの数値で初期化された1次元のTensor\n",
    "t = torch.arange(0, 10)\n",
    "\n",
    "# 全ての値が0の100X10のTensorを作成し、toメソッドでGPUに転送する\n",
    "t = torch.zeros(100, 10).to(\"cuda:0\")\n",
    "\n",
    "# 正規乱数で100X10のTensorを作成\n",
    "t = torch.randn(100, 10)\n",
    "\n",
    "# Tensorのshapeはsizeメソッドで取得可能\n",
    "t.size()"
   ]
  },
  {
   "cell_type": "code",
   "execution_count": 4,
   "metadata": {},
   "outputs": [],
   "source": [
    "# numpyメソッドを使用してndarrayに変換\n",
    "t = torch.tensor([[1, 2], [3, 4.]])\n",
    "x = t.numpy()\n",
    "\n",
    "# GPU上のTensorはcpuメソッドで一度CPUのTensorに変換する必要がある\n",
    "t = torch.tensor([[1, 2], [3, 4.]], device=\"cuda:0\")\n",
    "x = t.to(\"cpu\").numpy()"
   ]
  },
  {
   "cell_type": "markdown",
   "metadata": {},
   "source": [
    "Tensorのインデクシング操作"
   ]
  },
  {
   "cell_type": "code",
   "execution_count": 5,
   "metadata": {},
   "outputs": [],
   "source": [
    "t = torch.tensor([[1, 2, 3], [4, 5, 6.]])\n",
    "\n",
    "# スカラーの添字で指定\n",
    "t[0, 2]\n",
    "\n",
    "# スライスで指定\n",
    "t[:, :2]\n",
    "\n",
    "# 添字のリストで指定\n",
    "t[:, [1, 2]]\n",
    "\n",
    "# マスク配列を使用して3より大きい部分のみ選択\n",
    "t[t > 3]\n",
    "\n",
    "# [0, 1]要素を100にする\n",
    "t[0, 1] = 100\n",
    "\n",
    "# スライスを使用した一括代入\n",
    "t[:, 1] = 200\n",
    "\n",
    "# マスク配列を使用して特定条件の要素のみ置換\n",
    "t[t > 10] = 20"
   ]
  },
  {
   "cell_type": "markdown",
   "metadata": {},
   "source": [
    "Tensorの演算"
   ]
  },
  {
   "cell_type": "code",
   "execution_count": 6,
   "metadata": {},
   "outputs": [],
   "source": [
    "# ながさ3のベクトり\n",
    "v = torch.tensor([1, 2, 3.])\n",
    "w = torch.tensor([0, 10, 20.])\n",
    "# 2X3の行列\n",
    "m = torch.tensor([[0, 1, 2], [100, 200, 300.]])\n",
    "# ベクトルとスカラーの足し算\n",
    "v2 = v + 10\n",
    "# 累乗も同様\n",
    "v2 = v ** 2\n",
    "# 同じ長さのベクトル同士の引き算\n",
    "z = v - w\n",
    "# 複数の組み合わせ\n",
    "u = 2 * v - w / 10 + 6.0\n",
    "\n",
    "# 行列とスカラー\n",
    "m2 = m * 2.0\n",
    "# 行列とベクトル\n",
    "# (2, 3)の行列と(3,)のベクトルなのでブロードキャストが働く\n",
    "m3 = m + v\n",
    "# 行列同士\n",
    "m4 = m + m"
   ]
  },
  {
   "cell_type": "code",
   "execution_count": 7,
   "metadata": {},
   "outputs": [],
   "source": [
    "# 100 X 10のテストデータを用意\n",
    "X = torch.randn(100, 10)\n",
    "# 数学関数を含めた数式\n",
    "y = X * 2 + torch.abs(X)\n",
    "# 平均値を求める\n",
    "m = torch.mean(X)\n",
    "# 関数ではなくメソッドとしても利用できる\n",
    "m = X.mean()\n",
    "# 集計結果は0次元のTensorでitemメソッドを使用して、値を取り出すことができる\n",
    "m_value = m.item()\n",
    "# 集計は次元を指定できる。以下は行方向に、集計して列ごとに平均値を計算している\n",
    "m2 = X.mean(0)"
   ]
  },
  {
   "cell_type": "code",
   "execution_count": 8,
   "metadata": {},
   "outputs": [],
   "source": [
    "x1 = torch.tensor([[1, 2], [3, 4.]])\n",
    "x2 = torch.tensor([[10, 20, 30], [40, 50, 60.]])\n",
    "\n",
    "# 2X2を4X1に見せる\n",
    "x1.view(4, 1)\n",
    "# -1は残りの次元を表し、一度だけ使用できる\n",
    "# 以下の例では-1とすると自動的に4になる\n",
    "x1.view(1, -1)\n",
    "\n",
    "# 2X3をてんちして3x2にする\n",
    "x2.t()\n",
    "\n",
    "# dim=1に対して結合することで2x5のTensorを作る\n",
    "torch.cat([x1, x2], dim=1)\n",
    "\n",
    "# HWCをCHWに変換\n",
    "# 64 x 32 x 3のデータが100個\n",
    "hwc_img_data = torch.rand(100, 64, 32, 3)\n",
    "chw_img_data = hwc_img_data.transpose(1, 2).transpose(1, 3)"
   ]
  },
  {
   "cell_type": "code",
   "execution_count": 9,
   "metadata": {},
   "outputs": [],
   "source": [
    "m = torch.randn(100, 10)\n",
    "v = torch.randn(10)\n",
    "\n",
    "# 内積\n",
    "d = torch.dot(v, v)\n",
    "\n",
    "# 100 x 10の行列と長さ10のベクトルとの積\n",
    "# 結果は長さ100のベクトル\n",
    "v2 = torch.mv(m, v)\n",
    "\n",
    "# 行列積\n",
    "m2 = torch.mm(m.t(), m)\n",
    "\n",
    "# 特異値分解\n",
    "u, s, v = torch.svd(m)"
   ]
  },
  {
   "cell_type": "markdown",
   "metadata": {},
   "source": [
    "Tensorと自動微分"
   ]
  },
  {
   "cell_type": "code",
   "execution_count": 10,
   "metadata": {},
   "outputs": [
    {
     "data": {
      "text/plain": [
       "tensor([ 0,  0,  0], dtype=torch.uint8)"
      ]
     },
     "execution_count": 10,
     "metadata": {},
     "output_type": "execute_result"
    }
   ],
   "source": [
    "x = torch.randn(100, 3)\n",
    "# 微分の変数として扱う場合はrequires_gradフラグをTrueにする\n",
    "a = torch.tensor([1, 2, 3.], requires_grad=True)\n",
    "\n",
    "# 計算をすることで自動的に計算グラフが構築されていく\n",
    "y = torch.mv(x, a)\n",
    "o = y.sum()\n",
    "\n",
    "# 微分を実行する\n",
    "o.backward()\n",
    "\n",
    "# 解析かいと比較する\n",
    "a.grad != x.sum(0)"
   ]
  },
  {
   "cell_type": "code",
   "execution_count": 11,
   "metadata": {},
   "outputs": [
    {
     "data": {
      "text/plain": [
       "True"
      ]
     },
     "execution_count": 11,
     "metadata": {},
     "output_type": "execute_result"
    }
   ],
   "source": [
    "# xはrequires_gradがFalseなので微分は計算されない\n",
    "x.grad is None"
   ]
  },
  {
   "cell_type": "code",
   "execution_count": null,
   "metadata": {},
   "outputs": [],
   "source": []
  }
 ],
 "metadata": {
  "kernelspec": {
   "display_name": "Python 3",
   "language": "python",
   "name": "python3"
  },
  "language_info": {
   "codemirror_mode": {
    "name": "ipython",
    "version": 3
   },
   "file_extension": ".py",
   "mimetype": "text/x-python",
   "name": "python",
   "nbconvert_exporter": "python",
   "pygments_lexer": "ipython3",
   "version": "3.6.7"
  }
 },
 "nbformat": 4,
 "nbformat_minor": 2
}
