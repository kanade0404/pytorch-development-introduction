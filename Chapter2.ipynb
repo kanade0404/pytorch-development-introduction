{
 "cells": [
  {
   "cell_type": "markdown",
   "metadata": {},
   "source": [
    "線形回帰モデル"
   ]
  },
  {
   "cell_type": "code",
   "execution_count": 26,
   "metadata": {},
   "outputs": [],
   "source": [
    "\"\"\"\n",
    "テストデータを生成してパラメータを学習するための変数を準備\n",
    "\"\"\"\n",
    "\n",
    "import torch\n",
    "\n",
    "# 真の係数\n",
    "w_true = torch.Tensor([1, 2, 3])\n",
    "\n",
    "# Xのデータの準備。切片を回帰係数に含める為、Xの最初の次元に1を追加しておく\n",
    "X = torch.cat([torch.ones(100, 1), torch.randn(100, 2)], 1)\n",
    "\n",
    "# 真の係数と各Xとの内積を行列とベクトルの積でまとめて計算\n",
    "y = torch.mv(X, w_true) + torch.randn(100) * 0.5\n",
    "\n",
    "# 勾配降下で最適化するためのパラメータのTensorを乱数で初期化して作成\n",
    "w = torch.randn(3, requires_grad=True)\n",
    "\n",
    "# 学習率\n",
    "gamma = 0.1"
   ]
  },
  {
   "cell_type": "code",
   "execution_count": 27,
   "metadata": {},
   "outputs": [],
   "source": [
    "\"\"\"\n",
    "勾配降下法でパラメータを最適化\n",
    "\"\"\"\n",
    "\n",
    "# 損失関数のログ\n",
    "losses = []\n",
    "\n",
    "# 100回イテレーションを回す\n",
    "for epic in range(100):\n",
    "    # 前回のbackwardメソッドで計算された勾配の値を削除\n",
    "    w.grad = None\n",
    "    \n",
    "    # 線形モデルでyの予測値を計算\n",
    "    y_pred = torch.mv(X, w)\n",
    "    \n",
    "    # MSE lossとwによる微分を計算\n",
    "    loss = torch.mean((y - y_pred) ** 2)\n",
    "    loss.backward()\n",
    "    \n",
    "    # 勾配を更新する\n",
    "    # wをそのまま代入して更新すると異なるTensorになって計算グラフが破壊されてしまうのでdataだけを更新する\n",
    "    w.data = w.data - gamma * w.grad.data\n",
    "    \n",
    "    # 収束確認のためlossを記録しておく\n",
    "    losses.append(loss.item())"
   ]
  },
  {
   "cell_type": "code",
   "execution_count": 28,
   "metadata": {},
   "outputs": [
    {
     "data": {
      "text/plain": [
       "[<matplotlib.lines.Line2D at 0x7f00577f74e0>]"
      ]
     },
     "execution_count": 28,
     "metadata": {},
     "output_type": "execute_result"
    },
    {
     "data": {
      "image/png": "[encoded data removed]",
      "text/plain": [
       "<Figure size 432x288 with 1 Axes>"
      ]
     },
     "metadata": {
      "needs_background": "light"
     },
     "output_type": "display_data"
    }
   ],
   "source": [
    "\"\"\"\n",
    "matplotlibでプロット\n",
    "\"\"\"\n",
    "from matplotlib import pyplot as plt\n",
    "%matplotlib inline\n",
    "plt.plot(losses)"
   ]
  },
  {
   "cell_type": "code",
   "execution_count": 29,
   "metadata": {},
   "outputs": [
    {
     "data": {
      "text/plain": [
       "tensor([ 0.9687,  2.0012,  2.9865])"
      ]
     },
     "execution_count": 29,
     "metadata": {},
     "output_type": "execute_result"
    }
   ],
   "source": [
    "\"\"\"\n",
    "回帰係数の確認\n",
    "\"\"\"\n",
    "w"
   ]
  },
  {
   "cell_type": "code",
   "execution_count": 30,
   "metadata": {},
   "outputs": [],
   "source": [
    "\"\"\"\n",
    "線形回帰モデルの構築と最適化の準備\n",
    "\"\"\"\n",
    "from torch import nn, optim\n",
    "\n",
    "# Linear層を作成。今回は切片項は回帰係数に含めるので入力の次元を3とし、biasをFalseにする\n",
    "net = nn.Linear(in_features=3, out_features=1, bias=False)\n",
    "\n",
    "# SGDのオプティマイザーに上で定義したネットワークのパラメータを渡して初期化\n",
    "optimizer = optim.SGD(net.parameters(), lr=0.1)\n",
    "\n",
    "# MSE lossクラス\n",
    "loss_fn = nn.MSELoss()"
   ]
  },
  {
   "cell_type": "code",
   "execution_count": 31,
   "metadata": {},
   "outputs": [],
   "source": [
    "\"\"\"\n",
    "最適化のイテレーションを回す\n",
    "\"\"\"\n",
    "\n",
    "# 損失関数のログ\n",
    "losses = []\n",
    "\n",
    "# 100回イテレーションを回す\n",
    "for epoc in range(100):\n",
    "    # 前回のbackwardメソッドで計算された勾配の値を削除\n",
    "    optimizer.zero_grad()\n",
    "    \n",
    "    # 線形モデルでyの予測値を計算\n",
    "    y_pred = net(X)\n",
    "    \n",
    "    # MSES lossを計算\n",
    "    # y_predは(n, 1)のようなshapeを持っているので(n,)に直す必要がある\n",
    "    loss = loss_fn(y_pred.view_as(y), y)\n",
    "    \n",
    "    # lossのwによる微分を計算\n",
    "    loss.backward()\n",
    "    \n",
    "    # 勾配を更新する\n",
    "    optimizer.step()\n",
    "    \n",
    "    # 収束確認のためにlossを記録しておく\n",
    "    losses.append(loss.item())"
   ]
  },
  {
   "cell_type": "code",
   "execution_count": 32,
   "metadata": {},
   "outputs": [
    {
     "data": {
      "text/plain": [
       "[Parameter containing:\n",
       " tensor([[ 0.9687,  2.0012,  2.9865]])]"
      ]
     },
     "execution_count": 32,
     "metadata": {},
     "output_type": "execute_result"
    }
   ],
   "source": [
    "list(net.parameters())"
   ]
  },
  {
   "cell_type": "markdown",
   "metadata": {},
   "source": [
    "ロジスティック回帰"
   ]
  },
  {
   "cell_type": "code",
   "execution_count": 33,
   "metadata": {},
   "outputs": [],
   "source": [
    "\"\"\"\n",
    "irisのデータセットの準備\n",
    "\"\"\"\n",
    "from sklearn.datasets import load_iris\n",
    "iris = load_iris()\n",
    "\n",
    "# irisは(0, 1, 2)の3クラスの分類問題なのでここでは(0, 1)の2クラス分のデータだけ使用する\n",
    "# 本来は訓練用とテスト用に分けるべきだがここでは省略\n",
    "X = iris.data[:100]\n",
    "y = iris.target[:100]\n",
    "\n",
    "# NumPyのndarrayをPyTorchのTensorに変換\n",
    "X = torch.tensor(X, dtype=torch.float32)\n",
    "y = torch.tensor(y, dtype=torch.float32)"
   ]
  },
  {
   "cell_type": "code",
   "execution_count": 34,
   "metadata": {},
   "outputs": [],
   "source": [
    "\"\"\"\n",
    "モデルの作成\n",
    "\"\"\"\n",
    "net = nn.Linear(4, 1)\n",
    "\n",
    "# シグモイド関数を作用させ、2クラス分類の、クロスエントロピーを計算する関数\n",
    "loss_fn = nn.BCEWithLogitsLoss()\n",
    "\n",
    "# SGD(少し大きめの学習率)\n",
    "optimizer = optim.SGD(net.parameters(), lr=0.25)"
   ]
  },
  {
   "cell_type": "code",
   "execution_count": 35,
   "metadata": {},
   "outputs": [
    {
     "name": "stdout",
     "output_type": "stream",
     "text": [
      "torch.Size([100, 1]) torch.Size([100])\n",
      "torch.Size([100, 1]) torch.Size([100])\n",
      "torch.Size([100, 1]) torch.Size([100])\n",
      "torch.Size([100, 1]) torch.Size([100])\n",
      "torch.Size([100, 1]) torch.Size([100])\n",
      "torch.Size([100, 1]) torch.Size([100])\n",
      "torch.Size([100, 1]) torch.Size([100])\n",
      "torch.Size([100, 1]) torch.Size([100])\n",
      "torch.Size([100, 1]) torch.Size([100])\n",
      "torch.Size([100, 1]) torch.Size([100])\n",
      "torch.Size([100, 1]) torch.Size([100])\n",
      "torch.Size([100, 1]) torch.Size([100])\n",
      "torch.Size([100, 1]) torch.Size([100])\n",
      "torch.Size([100, 1]) torch.Size([100])\n",
      "torch.Size([100, 1]) torch.Size([100])\n",
      "torch.Size([100, 1]) torch.Size([100])\n",
      "torch.Size([100, 1]) torch.Size([100])\n",
      "torch.Size([100, 1]) torch.Size([100])\n",
      "torch.Size([100, 1]) torch.Size([100])\n",
      "torch.Size([100, 1]) torch.Size([100])\n",
      "torch.Size([100, 1]) torch.Size([100])\n",
      "torch.Size([100, 1]) torch.Size([100])\n",
      "torch.Size([100, 1]) torch.Size([100])\n",
      "torch.Size([100, 1]) torch.Size([100])\n",
      "torch.Size([100, 1]) torch.Size([100])\n",
      "torch.Size([100, 1]) torch.Size([100])\n",
      "torch.Size([100, 1]) torch.Size([100])\n",
      "torch.Size([100, 1]) torch.Size([100])\n",
      "torch.Size([100, 1]) torch.Size([100])\n",
      "torch.Size([100, 1]) torch.Size([100])\n",
      "torch.Size([100, 1]) torch.Size([100])\n",
      "torch.Size([100, 1]) torch.Size([100])\n",
      "torch.Size([100, 1]) torch.Size([100])\n",
      "torch.Size([100, 1]) torch.Size([100])\n",
      "torch.Size([100, 1]) torch.Size([100])\n",
      "torch.Size([100, 1]) torch.Size([100])\n",
      "torch.Size([100, 1]) torch.Size([100])\n",
      "torch.Size([100, 1]) torch.Size([100])\n",
      "torch.Size([100, 1]) torch.Size([100])\n",
      "torch.Size([100, 1]) torch.Size([100])\n",
      "torch.Size([100, 1]) torch.Size([100])\n",
      "torch.Size([100, 1]) torch.Size([100])\n",
      "torch.Size([100, 1]) torch.Size([100])\n",
      "torch.Size([100, 1]) torch.Size([100])\n",
      "torch.Size([100, 1]) torch.Size([100])\n",
      "torch.Size([100, 1]) torch.Size([100])\n",
      "torch.Size([100, 1]) torch.Size([100])\n",
      "torch.Size([100, 1]) torch.Size([100])\n",
      "torch.Size([100, 1]) torch.Size([100])\n",
      "torch.Size([100, 1]) torch.Size([100])\n",
      "torch.Size([100, 1]) torch.Size([100])\n",
      "torch.Size([100, 1]) torch.Size([100])\n",
      "torch.Size([100, 1]) torch.Size([100])\n",
      "torch.Size([100, 1]) torch.Size([100])\n",
      "torch.Size([100, 1]) torch.Size([100])\n",
      "torch.Size([100, 1]) torch.Size([100])\n",
      "torch.Size([100, 1]) torch.Size([100])\n",
      "torch.Size([100, 1]) torch.Size([100])\n",
      "torch.Size([100, 1]) torch.Size([100])\n",
      "torch.Size([100, 1]) torch.Size([100])\n",
      "torch.Size([100, 1]) torch.Size([100])\n",
      "torch.Size([100, 1]) torch.Size([100])\n",
      "torch.Size([100, 1]) torch.Size([100])\n",
      "torch.Size([100, 1]) torch.Size([100])\n",
      "torch.Size([100, 1]) torch.Size([100])\n",
      "torch.Size([100, 1]) torch.Size([100])\n",
      "torch.Size([100, 1]) torch.Size([100])\n",
      "torch.Size([100, 1]) torch.Size([100])\n",
      "torch.Size([100, 1]) torch.Size([100])\n",
      "torch.Size([100, 1]) torch.Size([100])\n",
      "torch.Size([100, 1]) torch.Size([100])\n",
      "torch.Size([100, 1]) torch.Size([100])\n",
      "torch.Size([100, 1]) torch.Size([100])\n",
      "torch.Size([100, 1]) torch.Size([100])\n",
      "torch.Size([100, 1]) torch.Size([100])\n",
      "torch.Size([100, 1]) torch.Size([100])\n",
      "torch.Size([100, 1]) torch.Size([100])\n",
      "torch.Size([100, 1]) torch.Size([100])\n",
      "torch.Size([100, 1]) torch.Size([100])\n",
      "torch.Size([100, 1]) torch.Size([100])\n",
      "torch.Size([100, 1]) torch.Size([100])\n",
      "torch.Size([100, 1]) torch.Size([100])\n",
      "torch.Size([100, 1]) torch.Size([100])\n",
      "torch.Size([100, 1]) torch.Size([100])\n",
      "torch.Size([100, 1]) torch.Size([100])\n",
      "torch.Size([100, 1]) torch.Size([100])\n",
      "torch.Size([100, 1]) torch.Size([100])\n",
      "torch.Size([100, 1]) torch.Size([100])\n",
      "torch.Size([100, 1]) torch.Size([100])\n",
      "torch.Size([100, 1]) torch.Size([100])\n",
      "torch.Size([100, 1]) torch.Size([100])\n",
      "torch.Size([100, 1]) torch.Size([100])\n",
      "torch.Size([100, 1]) torch.Size([100])\n",
      "torch.Size([100, 1]) torch.Size([100])\n",
      "torch.Size([100, 1]) torch.Size([100])\n",
      "torch.Size([100, 1]) torch.Size([100])\n",
      "torch.Size([100, 1]) torch.Size([100])\n",
      "torch.Size([100, 1]) torch.Size([100])\n",
      "torch.Size([100, 1]) torch.Size([100])\n",
      "torch.Size([100, 1]) torch.Size([100])\n"
     ]
    }
   ],
   "source": [
    "\"\"\"\n",
    "パラメータ最適化のイテレーションを回す\n",
    "\"\"\"\n",
    "# 損失関数のログ\n",
    "losses = []\n",
    "\n",
    "# 100回イテレーションを回す\n",
    "for epoc in range(100):\n",
    "    # 前回のbackwardメソッドで計算された勾配の値を削除\n",
    "    optimizer.zero_grad()\n",
    "    \n",
    "    # 線形モデルでyの予測値を計算\n",
    "    y_pred = net(X)\n",
    "    \n",
    "    # MSE lossとwによる微分を計算\n",
    "    loss = loss_fn(y_pred.view_as(y), y)\n",
    "    loss.backward()\n",
    "    \n",
    "    # 勾配を更新する\n",
    "    optimizer.step()\n",
    "    \n",
    "    # 収束確認のためにlossを記録しておく\n",
    "    losses.append(loss.item())"
   ]
  },
  {
   "cell_type": "code",
   "execution_count": 36,
   "metadata": {},
   "outputs": [
    {
     "data": {
      "text/plain": [
       "[<matplotlib.lines.Line2D at 0x7f0057650438>]"
      ]
     },
     "execution_count": 36,
     "metadata": {},
     "output_type": "execute_result"
    },
    {
     "data": {
      "image/png": "[encoded data removed]",
      "text/plain": [
       "<Figure size 432x288 with 1 Axes>"
      ]
     },
     "metadata": {
      "needs_background": "light"
     },
     "output_type": "display_data"
    }
   ],
   "source": [
    "from matplotlib import pyplot as plt\n",
    "%matplotlib inline\n",
    "plt.plot(losses)"
   ]
  },
  {
   "cell_type": "code",
   "execution_count": 37,
   "metadata": {},
   "outputs": [
    {
     "data": {
      "text/plain": [
       "100"
      ]
     },
     "execution_count": 37,
     "metadata": {},
     "output_type": "execute_result"
    }
   ],
   "source": [
    "\"\"\"\n",
    "予測モデル\n",
    "\"\"\"\n",
    "# 線型結合の結果\n",
    "h = net(X)\n",
    "\n",
    "# シグモイド関数を作用させた結果はy=1の確率を表す\n",
    "prob = nn.functional.sigmoid(h)\n",
    "\n",
    "# 確率が0.5以上のものをクラス1と予想し、それ以外を0とする\n",
    "# PyTorchにはbool型がないので対応する型としてByteTensorが出力される\n",
    "y_pred = prob > 0.5\n",
    "\n",
    "# 予測結果の確認（yはFloatTesnsorなのでByteTensorに変換してから比較する）\n",
    "(y.byte() == y_pred.view_as(y)).sum().item()"
   ]
  },
  {
   "cell_type": "markdown",
   "metadata": {},
   "source": [
    "多クラスのロジスティック回帰"
   ]
  },
  {
   "cell_type": "code",
   "execution_count": 42,
   "metadata": {},
   "outputs": [],
   "source": [
    "\"\"\"\n",
    "10種類の手書き数字のデータセットの分類問題\n",
    "\"\"\"\n",
    "from sklearn.datasets import load_digits\n",
    "digits = load_digits()\n",
    "X = digits.data\n",
    "y = digits.target\n",
    "\n",
    "X = torch.tensor(X, dtype=torch.float32)\n",
    "# CrossEntropy関数はyとしてint64型のTensorを受け取るので注意\n",
    "y = torch.tensor(y, dtype=torch.int64)\n",
    "\n",
    "# 出力は10(クラス数)次元\n",
    "net = nn.Linear(X.size()[1], 10)\n",
    "\n",
    "# ソフトマックスクロスエントロピー\n",
    "load_digitsss_fn = nn.CrossEntropyLoss()\n",
    "\n",
    "#SGD\n",
    "optimizer = optim.SGD(net.parameters(), lr=0.01)"
   ]
  },
  {
   "cell_type": "code",
   "execution_count": 43,
   "metadata": {},
   "outputs": [
    {
     "ename": "ValueError",
     "evalue": "Target size (torch.Size([1797])) must be the same as input size (torch.Size([1797, 10]))",
     "output_type": "error",
     "traceback": [
      "\u001b[0;31m---------------------------------------------------------------------------\u001b[0m",
      "\u001b[0;31mValueError\u001b[0m                                Traceback (most recent call last)",
      "\u001b[0;32m<ipython-input-43-b22a9b8ea108>\u001b[0m in \u001b[0;36m<module>\u001b[0;34m\u001b[0m\n\u001b[1;32m     14\u001b[0m \u001b[0;34m\u001b[0m\u001b[0m\n\u001b[1;32m     15\u001b[0m     \u001b[0;31m# MSE lossとwによる微分を計算\u001b[0m\u001b[0;34m\u001b[0m\u001b[0;34m\u001b[0m\u001b[0;34m\u001b[0m\u001b[0m\n\u001b[0;32m---> 16\u001b[0;31m     \u001b[0mloss\u001b[0m \u001b[0;34m=\u001b[0m \u001b[0mloss_fn\u001b[0m\u001b[0;34m(\u001b[0m\u001b[0my_pred\u001b[0m\u001b[0;34m,\u001b[0m \u001b[0my\u001b[0m\u001b[0;34m)\u001b[0m\u001b[0;34m\u001b[0m\u001b[0;34m\u001b[0m\u001b[0m\n\u001b[0m\u001b[1;32m     17\u001b[0m     \u001b[0mloss\u001b[0m\u001b[0;34m.\u001b[0m\u001b[0mbackward\u001b[0m\u001b[0;34m(\u001b[0m\u001b[0;34m)\u001b[0m\u001b[0;34m\u001b[0m\u001b[0;34m\u001b[0m\u001b[0m\n\u001b[1;32m     18\u001b[0m \u001b[0;34m\u001b[0m\u001b[0m\n",
      "\u001b[0;32m~/.conda/envs/pytorch/lib/python3.6/site-packages/torch/nn/modules/module.py\u001b[0m in \u001b[0;36m__call__\u001b[0;34m(self, *input, **kwargs)\u001b[0m\n\u001b[1;32m    489\u001b[0m             \u001b[0mresult\u001b[0m \u001b[0;34m=\u001b[0m \u001b[0mself\u001b[0m\u001b[0;34m.\u001b[0m\u001b[0m_slow_forward\u001b[0m\u001b[0;34m(\u001b[0m\u001b[0;34m*\u001b[0m\u001b[0minput\u001b[0m\u001b[0;34m,\u001b[0m \u001b[0;34m**\u001b[0m\u001b[0mkwargs\u001b[0m\u001b[0;34m)\u001b[0m\u001b[0;34m\u001b[0m\u001b[0;34m\u001b[0m\u001b[0m\n\u001b[1;32m    490\u001b[0m         \u001b[0;32melse\u001b[0m\u001b[0;34m:\u001b[0m\u001b[0;34m\u001b[0m\u001b[0;34m\u001b[0m\u001b[0m\n\u001b[0;32m--> 491\u001b[0;31m             \u001b[0mresult\u001b[0m \u001b[0;34m=\u001b[0m \u001b[0mself\u001b[0m\u001b[0;34m.\u001b[0m\u001b[0mforward\u001b[0m\u001b[0;34m(\u001b[0m\u001b[0;34m*\u001b[0m\u001b[0minput\u001b[0m\u001b[0;34m,\u001b[0m \u001b[0;34m**\u001b[0m\u001b[0mkwargs\u001b[0m\u001b[0;34m)\u001b[0m\u001b[0;34m\u001b[0m\u001b[0;34m\u001b[0m\u001b[0m\n\u001b[0m\u001b[1;32m    492\u001b[0m         \u001b[0;32mfor\u001b[0m \u001b[0mhook\u001b[0m \u001b[0;32min\u001b[0m \u001b[0mself\u001b[0m\u001b[0;34m.\u001b[0m\u001b[0m_forward_hooks\u001b[0m\u001b[0;34m.\u001b[0m\u001b[0mvalues\u001b[0m\u001b[0;34m(\u001b[0m\u001b[0;34m)\u001b[0m\u001b[0;34m:\u001b[0m\u001b[0;34m\u001b[0m\u001b[0;34m\u001b[0m\u001b[0m\n\u001b[1;32m    493\u001b[0m             \u001b[0mhook_result\u001b[0m \u001b[0;34m=\u001b[0m \u001b[0mhook\u001b[0m\u001b[0;34m(\u001b[0m\u001b[0mself\u001b[0m\u001b[0;34m,\u001b[0m \u001b[0minput\u001b[0m\u001b[0;34m,\u001b[0m \u001b[0mresult\u001b[0m\u001b[0;34m)\u001b[0m\u001b[0;34m\u001b[0m\u001b[0;34m\u001b[0m\u001b[0m\n",
      "\u001b[0;32m~/.conda/envs/pytorch/lib/python3.6/site-packages/torch/nn/modules/loss.py\u001b[0m in \u001b[0;36mforward\u001b[0;34m(self, input, target)\u001b[0m\n\u001b[1;32m    498\u001b[0m             return F.binary_cross_entropy_with_logits(input, target,\n\u001b[1;32m    499\u001b[0m                                                       \u001b[0msize_average\u001b[0m\u001b[0;34m=\u001b[0m\u001b[0mself\u001b[0m\u001b[0;34m.\u001b[0m\u001b[0msize_average\u001b[0m\u001b[0;34m,\u001b[0m\u001b[0;34m\u001b[0m\u001b[0;34m\u001b[0m\u001b[0m\n\u001b[0;32m--> 500\u001b[0;31m                                                       reduce=self.reduce)\n\u001b[0m\u001b[1;32m    501\u001b[0m \u001b[0;34m\u001b[0m\u001b[0m\n\u001b[1;32m    502\u001b[0m \u001b[0;34m\u001b[0m\u001b[0m\n",
      "\u001b[0;32m~/.conda/envs/pytorch/lib/python3.6/site-packages/torch/nn/functional.py\u001b[0m in \u001b[0;36mbinary_cross_entropy_with_logits\u001b[0;34m(input, target, weight, size_average, reduce)\u001b[0m\n\u001b[1;32m   1512\u001b[0m     \"\"\"\n\u001b[1;32m   1513\u001b[0m     \u001b[0;32mif\u001b[0m \u001b[0;32mnot\u001b[0m \u001b[0;34m(\u001b[0m\u001b[0mtarget\u001b[0m\u001b[0;34m.\u001b[0m\u001b[0msize\u001b[0m\u001b[0;34m(\u001b[0m\u001b[0;34m)\u001b[0m \u001b[0;34m==\u001b[0m \u001b[0minput\u001b[0m\u001b[0;34m.\u001b[0m\u001b[0msize\u001b[0m\u001b[0;34m(\u001b[0m\u001b[0;34m)\u001b[0m\u001b[0;34m)\u001b[0m\u001b[0;34m:\u001b[0m\u001b[0;34m\u001b[0m\u001b[0;34m\u001b[0m\u001b[0m\n\u001b[0;32m-> 1514\u001b[0;31m         \u001b[0;32mraise\u001b[0m \u001b[0mValueError\u001b[0m\u001b[0;34m(\u001b[0m\u001b[0;34m\"Target size ({}) must be the same as input size ({})\"\u001b[0m\u001b[0;34m.\u001b[0m\u001b[0mformat\u001b[0m\u001b[0;34m(\u001b[0m\u001b[0mtarget\u001b[0m\u001b[0;34m.\u001b[0m\u001b[0msize\u001b[0m\u001b[0;34m(\u001b[0m\u001b[0;34m)\u001b[0m\u001b[0;34m,\u001b[0m \u001b[0minput\u001b[0m\u001b[0;34m.\u001b[0m\u001b[0msize\u001b[0m\u001b[0;34m(\u001b[0m\u001b[0;34m)\u001b[0m\u001b[0;34m)\u001b[0m\u001b[0;34m)\u001b[0m\u001b[0;34m\u001b[0m\u001b[0;34m\u001b[0m\u001b[0m\n\u001b[0m\u001b[1;32m   1515\u001b[0m \u001b[0;34m\u001b[0m\u001b[0m\n\u001b[1;32m   1516\u001b[0m     \u001b[0mmax_val\u001b[0m \u001b[0;34m=\u001b[0m \u001b[0;34m(\u001b[0m\u001b[0;34m-\u001b[0m\u001b[0minput\u001b[0m\u001b[0;34m)\u001b[0m\u001b[0;34m.\u001b[0m\u001b[0mclamp\u001b[0m\u001b[0;34m(\u001b[0m\u001b[0mmin\u001b[0m\u001b[0;34m=\u001b[0m\u001b[0;36m0\u001b[0m\u001b[0;34m)\u001b[0m\u001b[0;34m\u001b[0m\u001b[0;34m\u001b[0m\u001b[0m\n",
      "\u001b[0;31mValueError\u001b[0m: Target size (torch.Size([1797])) must be the same as input size (torch.Size([1797, 10]))"
     ]
    }
   ],
   "source": [
    "\"\"\"\n",
    "学習のイテレーション部分\n",
    "\"\"\"\n",
    "# 損失関数のログ\n",
    "losses = []\n",
    "\n",
    "# 100回イテレーションを回す\n",
    "for epoc in range(100):\n",
    "    # 前回のbakcwardメソッドで計算された勾配の値を削除\n",
    "    optimizer.zero_grad()\n",
    "    \n",
    "    # 線形モデルでyの予測値を計算\n",
    "    y_pred = net(X)\n",
    "    \n",
    "    # MSE lossとwによる微分を計算\n",
    "    loss = loss_fn(y_pred, y)\n",
    "    loss.backward()\n",
    "    \n",
    "    # 勾配を更新する\n",
    "    optimizer.step()\n",
    "    \n",
    "    # 収録確認のためにlossを記録しておく\n",
    "    losses.append(loss.item())"
   ]
  },
  {
   "cell_type": "code",
   "execution_count": null,
   "metadata": {},
   "outputs": [],
   "source": []
  }
 ],
 "metadata": {
  "kernelspec": {
   "display_name": "Python 3",
   "language": "python",
   "name": "python3"
  },
  "language_info": {
   "codemirror_mode": {
    "name": "ipython",
    "version": 3
   },
   "file_extension": ".py",
   "mimetype": "text/x-python",
   "name": "python",
   "nbconvert_exporter": "python",
   "pygments_lexer": "ipython3",
   "version": "3.6.7"
  }
 },
 "nbformat": 4,
 "nbformat_minor": 2
}
